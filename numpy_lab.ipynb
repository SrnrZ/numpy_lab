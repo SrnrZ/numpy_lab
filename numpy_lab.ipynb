{
 "cells": [
  {
   "cell_type": "code",
   "execution_count": 3,
   "id": "ef3a60c0-330a-4008-8493-a2b7becc72da",
   "metadata": {},
   "outputs": [],
   "source": [
    "#### 1. Import the numpy package under the name `np` (★☆☆)\n",
    "import numpy as np"
   ]
  },
  {
   "cell_type": "code",
   "execution_count": 4,
   "id": "2e8efd39-a076-422b-939c-1d7a2f183321",
   "metadata": {},
   "outputs": [
    {
     "data": {
      "text/plain": [
       "array([0., 0., 0., 0., 0., 0., 0., 0., 0., 0.])"
      ]
     },
     "execution_count": 4,
     "metadata": {},
     "output_type": "execute_result"
    }
   ],
   "source": [
    "#### 2. Create a null vector of size 10 (★☆☆)\n",
    "#`hint: np.zeros`\n",
    "\n",
    "np.zeros(10)"
   ]
  },
  {
   "cell_type": "code",
   "execution_count": 5,
   "id": "9b647dc9-ef46-4e17-bb1f-cb4d3dd14788",
   "metadata": {},
   "outputs": [
    {
     "data": {
      "text/plain": [
       "array([0., 0., 0., 0., 1., 0., 0., 0., 0., 0.])"
      ]
     },
     "execution_count": 5,
     "metadata": {},
     "output_type": "execute_result"
    }
   ],
   "source": [
    "#### 3. Create a null vector of size 10 but the fifth value which is 1 (★☆☆)\n",
    "#`hint: array[4]`\n",
    "\n",
    "null_vector = np.zeros(10)\n",
    "null_vector[4] = 1\n",
    "null_vector"
   ]
  },
  {
   "cell_type": "code",
   "execution_count": 6,
   "id": "0ae36952-e594-4cd6-a191-fcb063b5ce63",
   "metadata": {},
   "outputs": [
    {
     "data": {
      "text/plain": [
       "array([10, 11, 12, 13, 14, 15, 16, 17, 18, 19, 20, 21, 22, 23, 24, 25, 26,\n",
       "       27, 28, 29, 30, 31, 32, 33, 34, 35, 36, 37, 38, 39, 40, 41, 42, 43,\n",
       "       44, 45, 46, 47, 48, 49])"
      ]
     },
     "execution_count": 6,
     "metadata": {},
     "output_type": "execute_result"
    }
   ],
   "source": [
    "#### 4. Create a vector with values ranging from 10 to 49 (★☆☆)\n",
    "#`hint: arange`\n",
    "\n",
    "np.arange(10, 50)"
   ]
  },
  {
   "cell_type": "code",
   "execution_count": 12,
   "id": "e34874bb-f3eb-41fe-8127-8ffb637d53d8",
   "metadata": {},
   "outputs": [
    {
     "data": {
      "text/plain": [
       "array([[0, 1, 2],\n",
       "       [3, 4, 5],\n",
       "       [6, 7, 8]])"
      ]
     },
     "execution_count": 12,
     "metadata": {},
     "output_type": "execute_result"
    }
   ],
   "source": [
    "#### 5. Create a 3x3 matrix with values ranging from 0 to 8 (★☆☆)\n",
    "#`hint: reshape`\n",
    "np.arange(0, 9)\n",
    "grid = np.arange(0, 9).reshape(3,3)\n",
    "grid"
   ]
  },
  {
   "cell_type": "code",
   "execution_count": 14,
   "id": "a34abf13-2056-4d0b-83e2-ac37038b5650",
   "metadata": {},
   "outputs": [
    {
     "data": {
      "text/plain": [
       "(array([0, 1, 4], dtype=int64),)"
      ]
     },
     "execution_count": 14,
     "metadata": {},
     "output_type": "execute_result"
    }
   ],
   "source": [
    "#### 6. Find indices of non-zero elements from [1,2,0,0,4,0] (★☆☆)\n",
    "#`hint: np.nonzero`\n",
    "\n",
    "np.nonzero([1,2,0,0,4,0])"
   ]
  },
  {
   "cell_type": "code",
   "execution_count": 15,
   "id": "b6e1aadd-cd79-4cde-9eee-5d8c8259353b",
   "metadata": {},
   "outputs": [
    {
     "data": {
      "text/plain": [
       "array([[1., 0., 0.],\n",
       "       [0., 1., 0.],\n",
       "       [0., 0., 1.]])"
      ]
     },
     "execution_count": 15,
     "metadata": {},
     "output_type": "execute_result"
    }
   ],
   "source": [
    "#### 7. Create a 3x3 identity matrix (★☆☆)\n",
    "#`hint: np.eye`\n",
    "np.eye(3,3)\n"
   ]
  },
  {
   "cell_type": "code",
   "execution_count": 18,
   "id": "4155cfd6-0464-4282-8b98-2ffc8db39a39",
   "metadata": {},
   "outputs": [
    {
     "data": {
      "text/plain": [
       "array([[0.39884332, 0.22262833, 0.43530106],\n",
       "       [0.93918835, 0.31201774, 0.0413177 ],\n",
       "       [0.88439208, 0.08738648, 0.77157693]])"
      ]
     },
     "execution_count": 18,
     "metadata": {},
     "output_type": "execute_result"
    }
   ],
   "source": [
    "#### 8. Create a 3x3x3 array with random values (★☆☆)\n",
    "#`hint: np.random.random`\n",
    "\n",
    "np.random.random((3,3))\n"
   ]
  },
  {
   "cell_type": "code",
   "execution_count": 25,
   "id": "c330d750-86e7-4eee-b57f-24cf059032fe",
   "metadata": {},
   "outputs": [
    {
     "name": "stdout",
     "output_type": "stream",
     "text": [
      "0.009975122739402709\n",
      "0.982146152991574\n"
     ]
    }
   ],
   "source": [
    "#### 9. Create a 10x10 array with random values and find the minimum and maximum values (★☆☆)\n",
    "#`hint: min, max`\n",
    "\n",
    "grid = np.random.random((10,10))\n",
    "print(grid.min())\n",
    "print(grid.max())"
   ]
  },
  {
   "cell_type": "code",
   "execution_count": 27,
   "id": "5d5114e0-6ff2-4c38-98b3-02b6e23f23f8",
   "metadata": {},
   "outputs": [
    {
     "data": {
      "text/plain": [
       "15.0"
      ]
     },
     "execution_count": 27,
     "metadata": {},
     "output_type": "execute_result"
    }
   ],
   "source": [
    "#### 10. Create a random vector of size 30 and find the mean value (★☆☆)\n",
    "#`hint: mean`\n",
    "a = np.arange(0, 31)\n",
    "np.mean(a)\n"
   ]
  },
  {
   "cell_type": "code",
   "execution_count": 37,
   "id": "9de61b85-ec8b-472c-a38a-33b6fc4c9b68",
   "metadata": {},
   "outputs": [
    {
     "data": {
      "text/plain": [
       "array([[0, 0, 0, 0, 0],\n",
       "       [1, 0, 0, 0, 0],\n",
       "       [0, 2, 0, 0, 0],\n",
       "       [0, 0, 3, 0, 0],\n",
       "       [0, 0, 0, 4, 0]])"
      ]
     },
     "execution_count": 37,
     "metadata": {},
     "output_type": "execute_result"
    }
   ],
   "source": [
    "#### 11. Create a 5x5 matrix with values 1,2,3,4 just below the diagonal (★☆☆)\n",
    "#`hint: np.diag`\n",
    "values = [1, 2, 3, 4]\n",
    "\n",
    "# Create a matrix with the values below the diagonal\n",
    "matrix = np.diag([1, 2, 3, 4], k=-1)\n",
    "matrix"
   ]
  },
  {
   "cell_type": "code",
   "execution_count": 43,
   "id": "9e552f96-6e4c-40b4-8d60-5a0a3363a867",
   "metadata": {},
   "outputs": [],
   "source": [
    "#### 12. Normalize a 5x5 random matrix (★☆☆)\n",
    "#`hint: (x -mean)/std`\n",
    "\n",
    "grid = np.random.random((5,5))\n",
    "\n",
    "mean = np.mean(grid)\n",
    "std = np.std(grid)\n",
    "\n",
    "# Normalize the matrix\n",
    "normalized_grid = (grid - mean) / std\n"
   ]
  },
  {
   "cell_type": "code",
   "execution_count": 46,
   "id": "1f4d45e9-6827-4c6f-8ebc-4ce194ac177f",
   "metadata": {},
   "outputs": [
    {
     "data": {
      "text/plain": [
       "array([20, 21, 22, 23, 24, 25, 26, 27, 28, 29, 30, 31, 32, 33, 34, 35, 36,\n",
       "       37, 38, 39, 40, 41, 42, 43, 44, 45, 46, 47, 48, 49])"
      ]
     },
     "execution_count": 46,
     "metadata": {},
     "output_type": "execute_result"
    }
   ],
   "source": [
    "#### 13. How to find common values between two arrays? (★☆☆)\n",
    "#`hint: np.intersect1d`\n",
    "a = np.arange(10, 50)\n",
    "b = np.arange(20, 100)\n",
    "\n",
    "# Find common values\n",
    "common_values = np.intersect1d(a, b)\n",
    "common_values"
   ]
  },
  {
   "cell_type": "code",
   "execution_count": 54,
   "id": "51f54ff5-6479-4eb1-9ad0-cc53aff8b882",
   "metadata": {},
   "outputs": [],
   "source": [
    "#### 14. Create a random vector of size 10 and sort it (★★☆)\n",
    "#`hint: sort`\n",
    "a = np.arange(0, 11).sort()\n",
    "a"
   ]
  },
  {
   "cell_type": "code",
   "execution_count": 57,
   "id": "a3fa8154-2045-4bda-ba47-b94e806b14f1",
   "metadata": {},
   "outputs": [
    {
     "data": {
      "text/plain": [
       "array([0.83824343, 0.78564873, 0.57095943, 0.37371091, 0.36304352,\n",
       "       0.33169781, 0.07295902, 0.        , 0.11800403, 0.75724287])"
      ]
     },
     "execution_count": 57,
     "metadata": {},
     "output_type": "execute_result"
    }
   ],
   "source": [
    "#### 15. Create random vector of size 10 and replace the maximum value by 0 (★★☆)\n",
    "#`hint: argmax`\n",
    "a = np.random.random(10)\n",
    "\n",
    "a_max = np.argmax(a)\n",
    "\n",
    "# Replace the maximum value with 0\n",
    "a[a_max] = 0\n",
    "a"
   ]
  },
  {
   "cell_type": "code",
   "execution_count": 68,
   "id": "b8eeb5c6-2b8f-4d80-9dfd-ac55e419c7e9",
   "metadata": {},
   "outputs": [
    {
     "data": {
      "text/plain": [
       "array([[-0.08536985, -0.01189738,  0.11479341, -0.01752619],\n",
       "       [ 0.05922722,  0.3038982 , -0.24051386, -0.12261156],\n",
       "       [-0.18914985,  0.30606893, -0.25581472,  0.13889564],\n",
       "       [ 0.19534513, -0.19374135,  0.02289399, -0.02449777]])"
      ]
     },
     "execution_count": 68,
     "metadata": {},
     "output_type": "execute_result"
    }
   ],
   "source": [
    "#### 16. Subtract the mean of each row of a matrix (★★☆)\n",
    "#`hint: mean(axis=,keepdims=)`\n",
    "a = np.random.random((4, 4))\n",
    "\n",
    "row_means = a.mean(axis=1, keepdims=True)\n",
    "\n",
    "normalized_a = a - row_means\n",
    "normalized_a"
   ]
  },
  {
   "cell_type": "code",
   "execution_count": null,
   "id": "41d95d4b-c9d6-49c2-980c-a21efac5bcfa",
   "metadata": {},
   "outputs": [],
   "source": [
    "#### 17. How to get the n largest values of an array (★★★)\n",
    "#`Z = np.arange(10000)\n",
    "#np.random.shuffle(Z)\n",
    "#n = 5\n",
    "#hint: np.argsort | np.argpartition`"
   ]
  },
  {
   "cell_type": "code",
   "execution_count": 4,
   "id": "7e9a45da-0cd7-4252-bbaa-96914573ff35",
   "metadata": {},
   "outputs": [],
   "source": [
    "Z = np.arange(10000)\n",
    "np.random.shuffle(Z)\n",
    "\n",
    "n = 5\n",
    "\n",
    "largest_indices = np.argpartition(Z, -n)[-n:]\n",
    "\n",
    "largest_values = Z[largest_indices]\n",
    "\n",
    "largest_values_sorted = np.sort(largest_values)[::-1]"
   ]
  },
  {
   "cell_type": "code",
   "execution_count": 8,
   "id": "18c9e434-aa3d-463e-b03e-899b2a5193c0",
   "metadata": {},
   "outputs": [
    {
     "data": {
      "text/plain": [
       "array([[6, 6, 2],\n",
       "       [6, 5, 5],\n",
       "       [2, 2, 6],\n",
       "       [1, 6, 5],\n",
       "       [2, 1, 2]])"
      ]
     },
     "execution_count": 8,
     "metadata": {},
     "output_type": "execute_result"
    }
   ],
   "source": [
    "#### 18. Create a random 5*3 matrix and replace items that are larger than 4 by their squares ( Example:  6 --> 36) \n",
    "#`hint: np.where`\n",
    "\n",
    "matrix = np.random.randint(1, 7, size=(5, 3)) \n",
    "\n",
    "result = np.where(matrix > 4, matrix**2, matrix)\n",
    "matrix"
   ]
  }
 ],
 "metadata": {
  "kernelspec": {
   "display_name": "Python 3 (ipykernel)",
   "language": "python",
   "name": "python3"
  },
  "language_info": {
   "codemirror_mode": {
    "name": "ipython",
    "version": 3
   },
   "file_extension": ".py",
   "mimetype": "text/x-python",
   "name": "python",
   "nbconvert_exporter": "python",
   "pygments_lexer": "ipython3",
   "version": "3.11.7"
  }
 },
 "nbformat": 4,
 "nbformat_minor": 5
}
